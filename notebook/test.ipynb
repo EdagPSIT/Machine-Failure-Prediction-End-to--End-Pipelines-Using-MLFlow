{
 "cells": [
  {
   "cell_type": "code",
   "execution_count": 2,
   "metadata": {},
   "outputs": [
    {
     "name": "stdout",
     "output_type": "stream",
     "text": [
      "/home/ramesh/Desktop/ML Projects/Machine Failure Prediction/src/machinefailure\n",
      "/home/ramesh/Desktop/ML Projects/Machine Failure Prediction\n",
      "/home/ramesh/Desktop/ML Projects/Machine Failure Prediction/configfiles/config.yaml\n",
      "/home/ramesh/Desktop/ML Projects/Machine Failure Prediction/data\n",
      "/home/ramesh/Desktop/ML Projects/Machine Failure Prediction/models\n"
     ]
    }
   ],
   "source": [
    "from pathlib import Path\n",
    "from typing import Dict,List,Any\n",
    "from pydantic import BaseModel\n",
    "from machinefailure.utils.helper_function import read_yaml\n",
    "import machinefailure\n",
    "\n",
    "# Project Directories\n",
    "PACKAGE_ROOT = Path(machinefailure.__file__).resolve().parent\n",
    "ROOT = PACKAGE_ROOT.parent.parent\n",
    "CONFIG_FILE_PATH = ROOT / \"configfiles/config.yaml\"\n",
    "PARAMS_FILE_PATH = ROOT / \"configfiles/params.yaml\"\n",
    "SCHEMA_FILE_PATH = ROOT / \"configfiles/schema.yaml\"\n",
    "DATASET_DIR = ROOT / \"data\"\n",
    "TRAINED_MODEL_DIR = ROOT / \"models\"\n",
    "\n",
    "\n",
    "print(PACKAGE_ROOT)\n",
    "print(ROOT)\n",
    "print(CONFIG_FILE_PATH)\n",
    "print(DATASET_DIR)\n",
    "print(TRAINED_MODEL_DIR)\n",
    "\n",
    "class DataTransformationConfig(BaseModel):\n",
    "    raw_data_path: Path\n",
    "    train_data_path: Path\n",
    "    test_data_path: Path\n",
    "    saving_model_name: str\n",
    "    features: List[str]\n",
    "    features_to_drop: List[str]\n",
    "    cat_vars: List[str]\n",
    "    test_size: float\n",
    "    random_state: int\n",
    "\n",
    "class ModelTrainerConfig(BaseModel):\n",
    "    pass\n"
   ]
  },
  {
   "cell_type": "code",
   "execution_count": 3,
   "metadata": {},
   "outputs": [],
   "source": [
    "\n",
    "class ConfigManager:\n",
    "    def __init__(\n",
    "            self,\n",
    "            config_filepath = CONFIG_FILE_PATH,\n",
    "            params_filepath = PARAMS_FILE_PATH,\n",
    "            schema_filepath = SCHEMA_FILE_PATH\n",
    "    ):\n",
    "\n",
    "        self.config = read_yaml(config_filepath)\n",
    "        self.params = read_yaml(params_filepath)\n",
    "        # self.schema = read_yaml(schema_filepath)\n",
    "\n",
    "    def data_transformation_config(self) -> DataTransformationConfig:\n",
    "        config = self.config.data_transformation\n",
    "        params = self.params.data_transformation\n",
    "\n",
    "        transformation_config = DataTransformationConfig(\n",
    "            raw_data_path=config.raw_data_path,\n",
    "            train_data_path=config.train_data_path,\n",
    "            test_data_path=config.test_data_path,\n",
    "            saving_model_name=config.saving_model_name,\n",
    "            all_features=config.features,\n",
    "            features_to_drop=config.features_to_drop,\n",
    "            cat_vars=config.cat_vars,\n",
    "            test_size = params.test_size,\n",
    "            random_state=params.random_state\n",
    "\n",
    "        )\n",
    "        return transformation_config\n",
    "\n",
    "    def trainer_config(self) -> ModelTrainerConfig:\n",
    "        pass"
   ]
  },
  {
   "cell_type": "code",
   "execution_count": 5,
   "metadata": {},
   "outputs": [
    {
     "name": "stdout",
     "output_type": "stream",
     "text": [
      "[2024-01-16 16:44:25,157: INFO: helper_function: yaml file: /home/ramesh/Desktop/ML Projects/Machine Failure Prediction/configfiles/config.yaml loaded successfully]\n",
      "[2024-01-16 16:44:25,159: INFO: helper_function: yaml file: /home/ramesh/Desktop/ML Projects/Machine Failure Prediction/configfiles/params.yaml loaded successfully]\n",
      "{'test_size': 0.2, 'random_state': 42}\n"
     ]
    }
   ],
   "source": [
    "mng = ConfigManager()\n",
    "print(mng.params.data_transformation)"
   ]
  },
  {
   "cell_type": "code",
   "execution_count": null,
   "metadata": {},
   "outputs": [],
   "source": []
  },
  {
   "cell_type": "code",
   "execution_count": null,
   "metadata": {},
   "outputs": [],
   "source": []
  }
 ],
 "metadata": {
  "kernelspec": {
   "display_name": "machine-failure",
   "language": "python",
   "name": "python3"
  },
  "language_info": {
   "codemirror_mode": {
    "name": "ipython",
    "version": 3
   },
   "file_extension": ".py",
   "mimetype": "text/x-python",
   "name": "python",
   "nbconvert_exporter": "python",
   "pygments_lexer": "ipython3",
   "version": "3.10.12"
  }
 },
 "nbformat": 4,
 "nbformat_minor": 2
}
